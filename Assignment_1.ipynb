{
 "cells": [
  {
   "cell_type": "markdown",
   "metadata": {
    "id": "5Kq7sO5PFE4K"
   },
   "source": [
    "Name - saurabh\n",
    "Roll No - 102383677\n",
    "Group - 3Co33\n",
    "ML - Assignment 1\n",
    "\n",
    "\n",
    "\n",
    "\n",
    "Q1: Questions on Basic NumPy Array\n",
    "\n",
    "\n",
    "\n"
   ]
  },
  {
   "cell_type": "code",
   "execution_count": 2,
   "metadata": {
    "colab": {
     "base_uri": "https://localhost:8080/"
    },
    "id": "9V8eZNVV1Oci",
    "outputId": "accea010-d208-4421-e069-9109e17e3bd6"
   },
   "outputs": [
    {
     "name": "stdout",
     "output_type": "stream",
     "text": [
      "[5 4 6 3 2 1]\n"
     ]
    }
   ],
   "source": [
    "import numpy as np\n",
    "\n",
    "arr = np.array([1, 2, 3, 6, 4, 5])\n",
    "a=np.flip(arr)\n",
    "\n",
    "print(a)\n"
   ]
  },
  {
   "cell_type": "markdown",
   "metadata": {
    "id": "tEdD79ZpF00O"
   },
   "source": [
    "(b) Flatten the NumPy arr: array1 = np.array([[1, 2, 3], [2, 4, 5], [1, 2, 3]])\n",
    "using any two NumPy in-built methods\n"
   ]
  },
  {
   "cell_type": "code",
   "execution_count": 3,
   "metadata": {
    "colab": {
     "base_uri": "https://localhost:8080/"
    },
    "id": "92jBAcbSF2qu",
    "outputId": "af08a365-8122-44f9-f2f6-80975e601617"
   },
   "outputs": [
    {
     "name": "stdout",
     "output_type": "stream",
     "text": [
      "Flattened array using flatten(): [1 2 3 2 4 5 1 2 3]\n",
      "Flattened array using ravel(): [1 2 3 2 4 5 1 2 3]\n"
     ]
    }
   ],
   "source": [
    "array1 = np.array([[1, 2, 3], [2, 4, 5], [1, 2, 3]])\n",
    "flattened_array1 = array1.flatten()\n",
    "print(\"Flattened array using flatten():\", flattened_array1)\n",
    "flattened_array2 = array1.ravel()\n",
    "print(\"Flattened array using ravel():\", flattened_array2)\n"
   ]
  },
  {
   "cell_type": "markdown",
   "metadata": {
    "id": "hUHpNSiIF7Ix"
   },
   "source": [
    "(c) Compare the following numpy arrays:\n"
   ]
  },
  {
   "cell_type": "code",
   "execution_count": 4,
   "metadata": {
    "colab": {
     "base_uri": "https://localhost:8080/"
    },
    "id": "8idDJ9gMGAc8",
    "outputId": "ebbdbbc6-e304-4f65-c25f-d062f93c2f55"
   },
   "outputs": [
    {
     "name": "stdout",
     "output_type": "stream",
     "text": [
      "Are the arrays equal? True\n"
     ]
    }
   ],
   "source": [
    "arr1 = np.array([[1, 2], [3, 4]])\n",
    "arr2 = np.array([[1, 2], [3, 4]])\n",
    "\n",
    "arr1 = np.array([[1, 2], [3, 4]])\n",
    "arr2 = np.array([[1, 2], [3, 4]])\n",
    "are_equal = np.array_equal(arr1, arr2)\n",
    "\n",
    "print(\"Are the arrays equal?\", are_equal)\n"
   ]
  },
  {
   "cell_type": "markdown",
   "metadata": {
    "id": "qn_f0O4fGGBx"
   },
   "source": [
    "(d) Find the most frequent value and their indice(s) in the following arrays:\n",
    "i. x = np.array([1,2,3,4,5,1,2,1,1,1])\n",
    "ii. y = np.array([1, 1, 1, 2, 3, 4, 2, 4, 3, 3, ])\n"
   ]
  },
  {
   "cell_type": "code",
   "execution_count": 5,
   "metadata": {
    "colab": {
     "base_uri": "https://localhost:8080/"
    },
    "id": "5kJoHoYYGKL5",
    "outputId": "c31a07fd-a3c2-42fa-c45e-a79eec7824ea"
   },
   "outputs": [
    {
     "name": "stdout",
     "output_type": "stream",
     "text": [
      "For array x:\n",
      "Most frequent value: 1\n",
      "Indices of most frequent value: [0 5 7 8 9]\n",
      "For array y:\n",
      "Most frequent value: 1\n",
      "Indices of most frequent value: [0 1 2]\n"
     ]
    }
   ],
   "source": [
    "x = np.array([1, 2, 3, 4, 5, 1, 2, 1, 1, 1])\n",
    "y = np.array([1, 1, 1, 2, 3, 4, 2, 4, 3, 3])\n",
    "def most_frequent_value_and_indices(arr):\n",
    "    counts = np.bincount(arr)\n",
    "    most_frequent_value = np.argmax(counts)\n",
    "    indices = np.where(arr == most_frequent_value)[0]\n",
    "\n",
    "    return most_frequent_value, indices\n",
    "\n",
    "x_value, x_indices = most_frequent_value_and_indices(x)\n",
    "print(\"For array x:\")\n",
    "print(\"Most frequent value:\", x_value)\n",
    "print(\"Indices of most frequent value:\", x_indices)\n",
    "\n",
    "y_value, y_indices = most_frequent_value_and_indices(y)\n",
    "print(\"For array y:\")\n",
    "print(\"Most frequent value:\", y_value)\n",
    "print(\"Indices of most frequent value:\", y_indices)\n"
   ]
  },
  {
   "cell_type": "markdown",
   "metadata": {
    "id": "Bxmus_NkGgjy"
   },
   "source": [
    "(e) For the array gfg = np.matrix('[4, 1, 9; 12, 3, 1; 4, 5, 6]'), find\n",
    "i. Sum of all elements\n",
    "ii. Sum of all elements row-wise\n",
    "iii. Sum of all elements column-wise\n"
   ]
  },
  {
   "cell_type": "code",
   "execution_count": 6,
   "metadata": {
    "colab": {
     "base_uri": "https://localhost:8080/"
    },
    "id": "bCj0qKHFGlYG",
    "outputId": "f4718931-79b5-4899-806c-cc1f2707e317"
   },
   "outputs": [
    {
     "name": "stdout",
     "output_type": "stream",
     "text": [
      "Sum of all elements: 45\n",
      "Sum of all elements row-wise: [[14]\n",
      " [16]\n",
      " [15]]\n",
      "Sum of all elements column-wise: [[20  9 16]]\n"
     ]
    }
   ],
   "source": [
    "gfg = np.matrix('[4, 1, 9; 12, 3, 1; 4, 5, 6]')\n",
    "\n",
    "sum_all_elements = np.sum(gfg)\n",
    "\n",
    "sum_row_wise = np.sum(gfg, axis=1)\n",
    "\n",
    "sum_column_wise = np.sum(gfg, axis=0)\n",
    "\n",
    "print(\"Sum of all elements:\", sum_all_elements)\n",
    "print(\"Sum of all elements row-wise:\", sum_row_wise)\n",
    "print(\"Sum of all elements column-wise:\", sum_column_wise)\n"
   ]
  },
  {
   "cell_type": "markdown",
   "metadata": {
    "id": "LV5A3E6pGrNw"
   },
   "source": [
    "(f) For the matrix: n_array = np.array([[55, 25, 15],[30, 44, 2],[11, 45, 77]]), find\n",
    "i. Sum of diagonal elements\n",
    "ii. Eigen values of matrix\n",
    "iii. Eigen vectors of matrix\n",
    "iv. Inverse of matrix\n",
    "v. Determinant of matrix\n"
   ]
  },
  {
   "cell_type": "code",
   "execution_count": 7,
   "metadata": {
    "colab": {
     "base_uri": "https://localhost:8080/"
    },
    "id": "C80TwvXWGu8C",
    "outputId": "455cffa4-b332-4037-afd8-f866815a3501"
   },
   "outputs": [
    {
     "name": "stdout",
     "output_type": "stream",
     "text": [
      "Sum of diagonal elements: 176\n",
      "Eigenvalues: [98.16835147 28.097044   49.73460452]\n",
      "Eigenvectors:\n",
      " [[ 0.4574917   0.34637121 -0.15017693]\n",
      " [ 0.28447814 -0.72784061 -0.4852124 ]\n",
      " [ 0.84248058  0.59184038  0.8614034 ]]\n",
      "Inverse of the matrix:\n",
      " [[ 0.02404141 -0.00911212 -0.00444671]\n",
      " [-0.01667882  0.02966905  0.0024785 ]\n",
      " [ 0.00631287 -0.01603732  0.01217379]]\n",
      "Determinant of the matrix: 137180.0000000001\n"
     ]
    }
   ],
   "source": [
    "n_array = np.array([[55, 25, 15], [30, 44, 2], [11, 45, 77]])\n",
    "\n",
    "sum_diagonal = np.trace(n_array)\n",
    "print(\"Sum of diagonal elements:\", sum_diagonal)\n",
    "\n",
    "eigenvalues, eigenvectors = np.linalg.eig(n_array)\n",
    "print(\"Eigenvalues:\", eigenvalues)\n",
    "print(\"Eigenvectors:\\n\", eigenvectors)\n",
    "\n",
    "inverse_matrix = np.linalg.inv(n_array)\n",
    "print(\"Inverse of the matrix:\\n\", inverse_matrix)\n",
    "\n",
    "determinant = np.linalg.det(n_array)\n",
    "print(\"Determinant of the matrix:\", determinant)\n"
   ]
  },
  {
   "cell_type": "markdown",
   "metadata": {
    "id": "mqj1bmDqGzYH"
   },
   "source": [
    "\n",
    "(g) Multiply the following matrices and also find covariance between matrices using NumPy:\n",
    "i. p = [[1, 2], [2, 3]]\n",
    "q = [[4, 5], [6, 7]]\n",
    "ii. p = [[1, 2], [2, 3], [4, 5]]\n",
    "q = [[4, 5, 1], [6, 7, 2]]\n"
   ]
  },
  {
   "cell_type": "code",
   "execution_count": 8,
   "metadata": {
    "colab": {
     "base_uri": "https://localhost:8080/"
    },
    "id": "q2M6PEGTG3RM",
    "outputId": "df7741d6-bee4-4ff3-b9f4-d778cdd281ad"
   },
   "outputs": [
    {
     "name": "stdout",
     "output_type": "stream",
     "text": [
      "Part (i) - Matrix multiplication result:\n",
      " [[16 19]\n",
      " [26 31]]\n",
      "Part (i) - Covariance matrix:\n",
      " [[0.66666667 1.        ]\n",
      " [1.         1.66666667]]\n",
      "Part (ii) - Matrix multiplication result:\n",
      " [[16 19  5]\n",
      " [26 31  8]\n",
      " [46 55 14]]\n",
      "Part (ii) - Covariance matrix:\n",
      " [[2.16666667 0.23333333]\n",
      " [0.23333333 5.36666667]]\n"
     ]
    }
   ],
   "source": [
    "p1 = np.array([[1, 2], [2, 3]])\n",
    "q1 = np.array([[4, 5], [6, 7]])\n",
    "\n",
    "product1 = np.dot(p1, q1)\n",
    "print(\"Part (i) - Matrix multiplication result:\\n\", product1)\n",
    "\n",
    "p1_flat = p1.flatten()\n",
    "q1_flat = q1.flatten()\n",
    "cov_matrix1 = np.cov(p1_flat, q1_flat)\n",
    "print(\"Part (i) - Covariance matrix:\\n\", cov_matrix1)\n",
    "\n",
    "p2 = np.array([[1, 2], [2, 3], [4, 5]])\n",
    "q2 = np.array([[4, 5, 1], [6, 7, 2]])\n",
    "\n",
    "product2 = np.dot(p2, q2)\n",
    "print(\"Part (ii) - Matrix multiplication result:\\n\", product2)\n",
    "\n",
    "p2_flat = p2.flatten()\n",
    "q2_flat = q2.flatten()\n",
    "cov_matrix2 = np.cov(p2_flat, q2_flat)\n",
    "print(\"Part (ii) - Covariance matrix:\\n\", cov_matrix2)\n"
   ]
  },
  {
   "cell_type": "markdown",
   "metadata": {
    "id": "1BjysFq-G8qF"
   },
   "source": [
    "h) For the matrices: x = np.array([[2, 3, 4], [3, 2, 9]]); y = np.array([[1, 5, 0], [5, 10, 3]]),\n",
    "find inner, outer and cartesian product?\n"
   ]
  },
  {
   "cell_type": "code",
   "execution_count": 9,
   "metadata": {
    "colab": {
     "base_uri": "https://localhost:8080/"
    },
    "id": "cbx9m-OfHAsq",
    "outputId": "eaf29b3c-8af3-4b95-edab-c363fddb1d22"
   },
   "outputs": [
    {
     "name": "stdout",
     "output_type": "stream",
     "text": [
      "Inner product: 79\n",
      "Outer product:\n",
      " [[ 2 10  0 10 20  6]\n",
      " [ 3 15  0 15 30  9]\n",
      " [ 4 20  0 20 40 12]\n",
      " [ 3 15  0 15 30  9]\n",
      " [ 2 10  0 10 20  6]\n",
      " [ 9 45  0 45 90 27]]\n",
      "Cartesian product:\n",
      " [[ 2  1  1  1  1  1  1]\n",
      " [ 3  5  5  5  5  5  5]\n",
      " [ 4  0  0  0  0  0  0]\n",
      " [ 3  5  5  5  5  5  5]\n",
      " [ 2 10 10 10 10 10 10]\n",
      " [ 9  3  3  3  3  3  3]]\n"
     ]
    }
   ],
   "source": [
    "x = np.array([[2, 3, 4], [3, 2, 9]])\n",
    "y = np.array([[1, 5, 0], [5, 10, 3]])\n",
    "\n",
    "x_flat = x.flatten()\n",
    "y_flat = y.flatten()\n",
    "\n",
    "inner_product = np.dot(x_flat, y_flat)\n",
    "print(\"Inner product:\", inner_product)\n",
    "\n",
    "outer_product = np.outer(x_flat, y_flat)\n",
    "print(\"Outer product:\\n\", outer_product)\n",
    "\n",
    "x_expanded = x_flat[:, np.newaxis]\n",
    "y_repeated = np.repeat(y_flat, len(x_flat)).reshape(len(x_flat), -1)\n",
    "cartesian_product = np.concatenate([x_expanded, y_repeated], axis=1)\n",
    "print(\"Cartesian product:\\n\", cartesian_product)\n"
   ]
  },
  {
   "cell_type": "markdown",
   "metadata": {
    "id": "7_Cli3kHHFp9"
   },
   "source": [
    "Q2: Based on NumPy Mathematics and Statistics\n",
    "\n",
    "(a) For the array: array = np.array([[1, -2, 3],[-4, 5, -6]])\n",
    "i. Find element-wise absolute value\n",
    "ii. Find the 25th, 50th, and 75th percentile of flattened array, for each column, for each\n",
    "row.\n",
    "iii. Mean, Median and Standard Deviation of flattened array, of each column, and\n",
    "each row\n"
   ]
  },
  {
   "cell_type": "code",
   "execution_count": 10,
   "metadata": {
    "colab": {
     "base_uri": "https://localhost:8080/"
    },
    "id": "WbS8_cEHHJfy",
    "outputId": "b5f8151b-1d74-415e-b622-8b2ba371dd01"
   },
   "outputs": [
    {
     "name": "stdout",
     "output_type": "stream",
     "text": [
      "Element-wise absolute value:\n",
      "[[1 2 3]\n",
      " [4 5 6]]\n",
      "\n",
      "Percentiles of flattened array:\n",
      "25th percentile: -3.5\n",
      "50th percentile: -0.5\n",
      "75th percentile: 2.5\n",
      "\n",
      "Percentiles of each column:\n",
      "25th percentile: [-2.75 -0.25 -3.75]\n",
      "50th percentile: [-1.5  1.5 -1.5]\n",
      "75th percentile: [-0.25  3.25  0.75]\n",
      "\n",
      "Percentiles of each row:\n",
      "25th percentile: [-0.5 -5. ]\n",
      "50th percentile: [ 1. -4.]\n",
      "75th percentile: [2.  0.5]\n",
      "\n",
      "Flattened array statistics:\n",
      "Mean: -0.5\n",
      "Median: -0.5\n",
      "Standard Deviation: 3.8622100754188224\n",
      "\n",
      "Each column statistics:\n",
      "Mean: [-1.5  1.5 -1.5]\n",
      "Median: [-1.5  1.5 -1.5]\n",
      "Standard Deviation: [2.5 3.5 4.5]\n",
      "\n",
      "Each row statistics:\n",
      "Mean: [ 0.66666667 -1.66666667]\n",
      "Median: [ 1. -4.]\n",
      "Standard Deviation: [2.05480467 4.78423336]\n"
     ]
    }
   ],
   "source": [
    "array = np.array([[1, -2, 3], [-4, 5, -6]])\n",
    "\n",
    "absolute_array = np.abs(array)\n",
    "print(\"Element-wise absolute value:\")\n",
    "print(absolute_array)\n",
    "\n",
    "flattened_array = array.flatten()\n",
    "percentiles_flat = np.percentile(flattened_array, [25, 50, 75])\n",
    "\n",
    "print(\"\\nPercentiles of flattened array:\")\n",
    "print(f\"25th percentile: {percentiles_flat[0]}\")\n",
    "print(f\"50th percentile: {percentiles_flat[1]}\")\n",
    "print(f\"75th percentile: {percentiles_flat[2]}\")\n",
    "\n",
    "percentiles_columns = np.percentile(array, [25, 50, 75], axis=0)\n",
    "print(\"\\nPercentiles of each column:\")\n",
    "print(f\"25th percentile: {percentiles_columns[0]}\")\n",
    "print(f\"50th percentile: {percentiles_columns[1]}\")\n",
    "print(f\"75th percentile: {percentiles_columns[2]}\")\n",
    "\n",
    "percentiles_rows = np.percentile(array, [25, 50, 75], axis=1)\n",
    "print(\"\\nPercentiles of each row:\")\n",
    "print(f\"25th percentile: {percentiles_rows[0]}\")\n",
    "print(f\"50th percentile: {percentiles_rows[1]}\")\n",
    "print(f\"75th percentile: {percentiles_rows[2]}\")\n",
    "mean_flat = np.mean(flattened_array)\n",
    "median_flat = np.median(flattened_array)\n",
    "std_flat = np.std(flattened_array)\n",
    "\n",
    "print(\"\\nFlattened array statistics:\")\n",
    "print(f\"Mean: {mean_flat}\")\n",
    "print(f\"Median: {median_flat}\")\n",
    "print(f\"Standard Deviation: {std_flat}\")\n",
    "\n",
    "mean_columns = np.mean(array, axis=0)\n",
    "median_columns = np.median(array, axis=0)\n",
    "std_columns = np.std(array, axis=0)\n",
    "\n",
    "print(\"\\nEach column statistics:\")\n",
    "print(f\"Mean: {mean_columns}\")\n",
    "print(f\"Median: {median_columns}\")\n",
    "print(f\"Standard Deviation: {std_columns}\")\n",
    "\n",
    "mean_rows = np.mean(array, axis=1)\n",
    "median_rows = np.median(array, axis=1)\n",
    "std_rows = np.std(array, axis=1)\n",
    "\n",
    "print(\"\\nEach row statistics:\")\n",
    "print(f\"Mean: {mean_rows}\")\n",
    "print(f\"Median: {median_rows}\")\n",
    "print(f\"Standard Deviation: {std_rows}\")\n"
   ]
  },
  {
   "cell_type": "markdown",
   "metadata": {
    "id": "32szSydrHhOS"
   },
   "source": [
    "(b) For the array: a = np.array([-1.8, -1.6, -0.5, 0.5,1.6, 1.8, 3.0]). Find floor, ceiling\n",
    "and truncated value, rounded values\n",
    "\n"
   ]
  },
  {
   "cell_type": "code",
   "execution_count": 11,
   "metadata": {
    "colab": {
     "base_uri": "https://localhost:8080/"
    },
    "id": "R1ZcS4FTHkS9",
    "outputId": "6e030c25-128c-45c7-b20e-326cba52df9c"
   },
   "outputs": [
    {
     "name": "stdout",
     "output_type": "stream",
     "text": [
      "Floor values:\n",
      "[-2. -2. -1.  0.  1.  1.  3.]\n",
      "\n",
      "Ceiling values:\n",
      "[-1. -1. -0.  1.  2.  2.  3.]\n",
      "\n",
      "Truncated values:\n",
      "[-1. -1. -0.  0.  1.  1.  3.]\n",
      "\n",
      "Rounded values:\n",
      "[-2. -2. -0.  0.  2.  2.  3.]\n"
     ]
    }
   ],
   "source": [
    "a = np.array([-1.8, -1.6, -0.5, 0.5, 1.6, 1.8, 3.0])\n",
    "\n",
    "floor_values = np.floor(a)\n",
    "print(\"Floor values:\")\n",
    "print(floor_values)\n",
    "\n",
    "ceiling_values = np.ceil(a)\n",
    "print(\"\\nCeiling values:\")\n",
    "print(ceiling_values)\n",
    "\n",
    "truncated_values = np.trunc(a)\n",
    "print(\"\\nTruncated values:\")\n",
    "print(truncated_values)\n",
    "\n",
    "rounded_values = np.round(a)\n",
    "print(\"\\nRounded values:\")\n",
    "print(rounded_values)\n"
   ]
  },
  {
   "cell_type": "markdown",
   "metadata": {
    "id": "KXE-CJKaHoQV"
   },
   "source": [
    "Q3: Based on Searching and Sorting\n",
    "\n",
    "(a) For the array: array = np.array([10, 52, 62, 16, 16, 54, 453]), find\n",
    "i. Sorted array\n",
    "ii. Indices of sorted array\n",
    "iii. 4 smallest elements\n",
    "iv. 5 largest elements\n"
   ]
  },
  {
   "cell_type": "code",
   "execution_count": 12,
   "metadata": {
    "colab": {
     "base_uri": "https://localhost:8080/"
    },
    "id": "KIT-T8Z2Htc3",
    "outputId": "f1b8fdde-9171-45ab-cf59-3a1e7a3ed43c"
   },
   "outputs": [
    {
     "name": "stdout",
     "output_type": "stream",
     "text": [
      "Sorted array:\n",
      "[ 10  16  16  52  54  62 453]\n",
      "\n",
      "Indices of sorted array:\n",
      "[0 3 4 1 5 2 6]\n",
      "\n",
      "4 smallest elements:\n",
      "[10 16 16 52]\n",
      "\n",
      "5 largest elements:\n",
      "[ 16  52  54  62 453]\n"
     ]
    }
   ],
   "source": [
    "array = np.array([10, 52, 62, 16, 16, 54, 453])\n",
    "\n",
    "sorted_array = np.sort(array)\n",
    "print(\"Sorted array:\")\n",
    "print(sorted_array)\n",
    "\n",
    "indices_of_sorted_array = np.argsort(array)\n",
    "print(\"\\nIndices of sorted array:\")\n",
    "print(indices_of_sorted_array)\n",
    "\n",
    "smallest_4_elements = np.partition(array, 4)[:4]\n",
    "smallest_4_elements_sorted = np.sort(smallest_4_elements)\n",
    "print(\"\\n4 smallest elements:\")\n",
    "print(smallest_4_elements_sorted)\n",
    "\n",
    "largest_5_elements = np.partition(array, -5)[-5:]\n",
    "largest_5_elements_sorted = np.sort(largest_5_elements)\n",
    "print(\"\\n5 largest elements:\")\n",
    "print(largest_5_elements_sorted)\n",
    "\n"
   ]
  },
  {
   "cell_type": "markdown",
   "metadata": {
    "id": "P_m5AK59Hyf_"
   },
   "source": [
    "(b) For the array: array = np.array([1.0, 1.2, 2.2, 2.0, 3.0, 2.0]), find\n",
    "i. Integer elements only\n",
    "ii. Float elements only\n"
   ]
  },
  {
   "cell_type": "code",
   "execution_count": null,
   "metadata": {
    "id": "SE49tGnSH2Nj"
   },
   "outputs": [],
   "source": [
    "array = np.array([1.0, 1.2, 2.2, 2.0, 3.0, 2.0])\n",
    "\n",
    "integer_elements = array[array == np.floor(array)]\n",
    "print(\"Integer elements only:\")\n",
    "print(integer_elements)\n",
    "\n",
    "float_elements = array[array != np.floor(array)]\n",
    "print(\"\\nFloat elements only:\")\n",
    "print(float_elements)\n"
   ]
  },
  {
   "cell_type": "markdown",
   "metadata": {
    "id": "H3IdFTkiH6o1"
   },
   "source": [
    "Q4:\n",
    "(a) Write a function named img_to_array(path) that reads an image from a specified path and\n",
    "save it as text file on local machine? (Note: use separate cases for RGB and Grey Scale\n",
    "images)\n"
   ]
  },
  {
   "cell_type": "code",
   "execution_count": 15,
   "metadata": {
    "colab": {
     "base_uri": "https://localhost:8080/",
     "height": 106
    },
    "id": "6m4ZvVhlH_pu",
    "outputId": "a8a826ba-e90c-4879-e7ef-0585a814f1c0"
   },
   "outputs": [
    {
     "ename": "SyntaxError",
     "evalue": "invalid syntax (<ipython-input-15-4eba9bb2a97d>, line 1)",
     "output_type": "error",
     "traceback": [
      "\u001b[0;36m  File \u001b[0;32m\"<ipython-input-15-4eba9bb2a97d>\"\u001b[0;36m, line \u001b[0;32m1\u001b[0m\n\u001b[0;31m    pip install opencv-python\u001b[0m\n\u001b[0m        ^\u001b[0m\n\u001b[0;31mSyntaxError\u001b[0m\u001b[0;31m:\u001b[0m invalid syntax\n"
     ]
    }
   ],
   "source": [
    "pip install opencv-python\n",
    "\n",
    "import cv2\n",
    "import numpy as np\n",
    "from google.colab import files\n",
    "\n",
    "uploaded = files.upload()\n",
    "\n",
    "def img_to_array(path):\n",
    "\n",
    "    img = cv2.imread(path, cv2.IMREAD_UNCHANGED)\n",
    "\n",
    "    if img is None:\n",
    "        raise FileNotFoundError(f\"The image at path {path} could not be found or read.\")\n",
    "\n",
    "    if len(img.shape) == 3:\n",
    "        img_rgb = cv2.cvtColor(img, cv2.COLOR_BGR2RGB)\n",
    "\n",
    "        text_file_path = path + \"_rgb.txt\"\n",
    "        with open(text_file_path, 'w') as f:\n",
    "            for row in img_rgb:\n",
    "                for pixel in row:\n",
    "                    f.write(' '.join(map(str, pixel)) + ' ')\n",
    "                f.write('\\n')\n",
    "\n",
    "    elif len(img.shape) == 2:\n",
    "        text_file_path = path + \"_greyscale.txt\"\n",
    "        with open(text_file_path, 'w') as f:\n",
    "            for row in img:\n",
    "                f.write(' '.join(map(str, row)) + '\\n')\n",
    "    else:\n",
    "        raise ValueError(\"Unsupported image format or image array dimension\")\n",
    "\n",
    "    print(f\"Image data saved to {text_file_path}\")\n",
    "    return text_file_path\n",
    "\n",
    "filename = list(uploaded.keys())[0]\n",
    "\n",
    "text_file_path = img_to_array(filename)\n",
    "\n",
    "files.download(text_file_path)\n"
   ]
  },
  {
   "cell_type": "markdown",
   "metadata": {
    "id": "Wnugkd8FIne5"
   },
   "source": [
    "(b) Load the saved file into jupyter notebook?\n"
   ]
  },
  {
   "cell_type": "code",
   "execution_count": null,
   "metadata": {
    "colab": {
     "base_uri": "https://localhost:8080/",
     "height": 38
    },
    "id": "UxKwR5WkIq8_",
    "outputId": "619a18d9-a9ec-473e-f7e8-f3886e22573e"
   },
   "outputs": [
    {
     "data": {
      "text/html": [
       "\n",
       "     <input type=\"file\" id=\"files-3e71869b-6aa7-4977-b592-90105564d151\" name=\"files[]\" multiple disabled\n",
       "        style=\"border:none\" />\n",
       "     <output id=\"result-3e71869b-6aa7-4977-b592-90105564d151\">\n",
       "      Upload widget is only available when the cell has been executed in the\n",
       "      current browser session. Please rerun this cell to enable.\n",
       "      </output>\n",
       "      <script>// Copyright 2017 Google LLC\n",
       "//\n",
       "// Licensed under the Apache License, Version 2.0 (the \"License\");\n",
       "// you may not use this file except in compliance with the License.\n",
       "// You may obtain a copy of the License at\n",
       "//\n",
       "//      http://www.apache.org/licenses/LICENSE-2.0\n",
       "//\n",
       "// Unless required by applicable law or agreed to in writing, software\n",
       "// distributed under the License is distributed on an \"AS IS\" BASIS,\n",
       "// WITHOUT WARRANTIES OR CONDITIONS OF ANY KIND, either express or implied.\n",
       "// See the License for the specific language governing permissions and\n",
       "// limitations under the License.\n",
       "\n",
       "/**\n",
       " * @fileoverview Helpers for google.colab Python module.\n",
       " */\n",
       "(function(scope) {\n",
       "function span(text, styleAttributes = {}) {\n",
       "  const element = document.createElement('span');\n",
       "  element.textContent = text;\n",
       "  for (const key of Object.keys(styleAttributes)) {\n",
       "    element.style[key] = styleAttributes[key];\n",
       "  }\n",
       "  return element;\n",
       "}\n",
       "\n",
       "// Max number of bytes which will be uploaded at a time.\n",
       "const MAX_PAYLOAD_SIZE = 100 * 1024;\n",
       "\n",
       "function _uploadFiles(inputId, outputId) {\n",
       "  const steps = uploadFilesStep(inputId, outputId);\n",
       "  const outputElement = document.getElementById(outputId);\n",
       "  // Cache steps on the outputElement to make it available for the next call\n",
       "  // to uploadFilesContinue from Python.\n",
       "  outputElement.steps = steps;\n",
       "\n",
       "  return _uploadFilesContinue(outputId);\n",
       "}\n",
       "\n",
       "// This is roughly an async generator (not supported in the browser yet),\n",
       "// where there are multiple asynchronous steps and the Python side is going\n",
       "// to poll for completion of each step.\n",
       "// This uses a Promise to block the python side on completion of each step,\n",
       "// then passes the result of the previous step as the input to the next step.\n",
       "function _uploadFilesContinue(outputId) {\n",
       "  const outputElement = document.getElementById(outputId);\n",
       "  const steps = outputElement.steps;\n",
       "\n",
       "  const next = steps.next(outputElement.lastPromiseValue);\n",
       "  return Promise.resolve(next.value.promise).then((value) => {\n",
       "    // Cache the last promise value to make it available to the next\n",
       "    // step of the generator.\n",
       "    outputElement.lastPromiseValue = value;\n",
       "    return next.value.response;\n",
       "  });\n",
       "}\n",
       "\n",
       "/**\n",
       " * Generator function which is called between each async step of the upload\n",
       " * process.\n",
       " * @param {string} inputId Element ID of the input file picker element.\n",
       " * @param {string} outputId Element ID of the output display.\n",
       " * @return {!Iterable<!Object>} Iterable of next steps.\n",
       " */\n",
       "function* uploadFilesStep(inputId, outputId) {\n",
       "  const inputElement = document.getElementById(inputId);\n",
       "  inputElement.disabled = false;\n",
       "\n",
       "  const outputElement = document.getElementById(outputId);\n",
       "  outputElement.innerHTML = '';\n",
       "\n",
       "  const pickedPromise = new Promise((resolve) => {\n",
       "    inputElement.addEventListener('change', (e) => {\n",
       "      resolve(e.target.files);\n",
       "    });\n",
       "  });\n",
       "\n",
       "  const cancel = document.createElement('button');\n",
       "  inputElement.parentElement.appendChild(cancel);\n",
       "  cancel.textContent = 'Cancel upload';\n",
       "  const cancelPromise = new Promise((resolve) => {\n",
       "    cancel.onclick = () => {\n",
       "      resolve(null);\n",
       "    };\n",
       "  });\n",
       "\n",
       "  // Wait for the user to pick the files.\n",
       "  const files = yield {\n",
       "    promise: Promise.race([pickedPromise, cancelPromise]),\n",
       "    response: {\n",
       "      action: 'starting',\n",
       "    }\n",
       "  };\n",
       "\n",
       "  cancel.remove();\n",
       "\n",
       "  // Disable the input element since further picks are not allowed.\n",
       "  inputElement.disabled = true;\n",
       "\n",
       "  if (!files) {\n",
       "    return {\n",
       "      response: {\n",
       "        action: 'complete',\n",
       "      }\n",
       "    };\n",
       "  }\n",
       "\n",
       "  for (const file of files) {\n",
       "    const li = document.createElement('li');\n",
       "    li.append(span(file.name, {fontWeight: 'bold'}));\n",
       "    li.append(span(\n",
       "        `(${file.type || 'n/a'}) - ${file.size} bytes, ` +\n",
       "        `last modified: ${\n",
       "            file.lastModifiedDate ? file.lastModifiedDate.toLocaleDateString() :\n",
       "                                    'n/a'} - `));\n",
       "    const percent = span('0% done');\n",
       "    li.appendChild(percent);\n",
       "\n",
       "    outputElement.appendChild(li);\n",
       "\n",
       "    const fileDataPromise = new Promise((resolve) => {\n",
       "      const reader = new FileReader();\n",
       "      reader.onload = (e) => {\n",
       "        resolve(e.target.result);\n",
       "      };\n",
       "      reader.readAsArrayBuffer(file);\n",
       "    });\n",
       "    // Wait for the data to be ready.\n",
       "    let fileData = yield {\n",
       "      promise: fileDataPromise,\n",
       "      response: {\n",
       "        action: 'continue',\n",
       "      }\n",
       "    };\n",
       "\n",
       "    // Use a chunked sending to avoid message size limits. See b/62115660.\n",
       "    let position = 0;\n",
       "    do {\n",
       "      const length = Math.min(fileData.byteLength - position, MAX_PAYLOAD_SIZE);\n",
       "      const chunk = new Uint8Array(fileData, position, length);\n",
       "      position += length;\n",
       "\n",
       "      const base64 = btoa(String.fromCharCode.apply(null, chunk));\n",
       "      yield {\n",
       "        response: {\n",
       "          action: 'append',\n",
       "          file: file.name,\n",
       "          data: base64,\n",
       "        },\n",
       "      };\n",
       "\n",
       "      let percentDone = fileData.byteLength === 0 ?\n",
       "          100 :\n",
       "          Math.round((position / fileData.byteLength) * 100);\n",
       "      percent.textContent = `${percentDone}% done`;\n",
       "\n",
       "    } while (position < fileData.byteLength);\n",
       "  }\n",
       "\n",
       "  // All done.\n",
       "  yield {\n",
       "    response: {\n",
       "      action: 'complete',\n",
       "    }\n",
       "  };\n",
       "}\n",
       "\n",
       "scope.google = scope.google || {};\n",
       "scope.google.colab = scope.google.colab || {};\n",
       "scope.google.colab._files = {\n",
       "  _uploadFiles,\n",
       "  _uploadFilesContinue,\n",
       "};\n",
       "})(self);\n",
       "</script> "
      ],
      "text/plain": [
       "<IPython.core.display.HTML object>"
      ]
     },
     "metadata": {},
     "output_type": "display_data"
    }
   ],
   "source": [
    "from google.colab import files\n",
    "\n",
    "uploaded = files.upload()\n",
    "\n",
    "file_name = list(uploaded.keys())[0]\n",
    "\n",
    "import pandas as pd\n",
    "import json\n",
    "\n",
    "try:\n",
    "    df = pd.read_csv(file_name)\n",
    "    print(\"CSV File loaded successfully!\")\n",
    "    print(df.head())\n",
    "except Exception as e:\n",
    "    print(f\"Error loading CSV file: {e}\")\n",
    "\n",
    "try:\n",
    "    with open(file_name, 'r') as file:\n",
    "        text_content = file.read()\n",
    "    print(\"\\nText File loaded successfully!\")\n",
    "    print(text_content)\n",
    "except Exception as e:\n",
    "    print(f\"Error loading text file: {e}\")\n",
    "\n",
    "try:\n",
    "    with open(file_name, 'r') as file:\n",
    "        json_data = json.load(file)\n",
    "    print(\"\\nJSON File loaded successfully!\")\n",
    "    print(json_data)\n",
    "except Exception as e:\n",
    "    print(f\"Error loading JSON file: {e}\")"
   ]
  }
 ],
 "metadata": {
  "colab": {
   "provenance": []
  },
  "kernelspec": {
   "display_name": "Python 3",
   "name": "python3"
  },
  "language_info": {
   "name": "python"
  }
 },
 "nbformat": 4,
 "nbformat_minor": 0
}
