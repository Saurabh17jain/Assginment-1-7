{
  "nbformat": 4,
  "nbformat_minor": 0,
  "metadata": {
    "colab": {
      "provenance": []
    },
    "kernelspec": {
      "name": "python3",
      "display_name": "Python 3"
    },
    "language_info": {
      "name": "python"
    }
  },
  "cells": [
    {
      "cell_type": "markdown",
      "source": [
        "1.\t(Gaussian Naïve Bayes Classifier) Implement Gaussian Naïve Bayes Classifier on the Iris dataset from sklearn.datasets using\n",
        "\n",
        "        (i) Step-by-step implementation\n"
      ],
      "metadata": {
        "id": "PajMUvY4SIpW"
      }
    },
    {
      "cell_type": "code",
      "source": [
        "from sklearn.datasets import load_iris\n",
        "from sklearn.model_selection import train_test_split\n",
        "import numpy as np\n",
        "\n",
        "# Load the Iris dataset\n",
        "data = load_iris()\n",
        "X = data.data\n",
        "y = data.target\n",
        "\n",
        "# Split into train and test\n",
        "X_train, X_test, y_train, y_test = train_test_split(X, y, test_size=0.3, random_state=42)\n",
        "\n",
        "# Step 1: Calculate prior probabilities\n",
        "priors = np.bincount(y_train) / len(y_train)\n",
        "\n",
        "# Step 2: Calculate mean and variance for each class\n",
        "mean = np.array([X_train[y_train == i].mean(axis=0) for i in range(len(priors))])\n",
        "var = np.array([X_train[y_train == i].var(axis=0) for i in range(len(priors))])\n",
        "\n",
        "# Step 3: Define Gaussian probability function\n",
        "def gaussian_probability(x, mean, var):\n",
        "    return (1 / np.sqrt(2 * np.pi * var)) * np.exp(-(x - mean)**2 / (2 * var))\n",
        "\n",
        "# Step 4: Predict class\n",
        "def predict(X):\n",
        "    posteriors = []\n",
        "    for x in X:\n",
        "        post_prob = []\n",
        "        for i in range(len(priors)):\n",
        "            likelihood = np.prod(gaussian_probability(x, mean[i], var[i]))\n",
        "            post_prob.append(priors[i] * likelihood)\n",
        "        posteriors.append(np.argmax(post_prob))\n",
        "    return np.array(posteriors)\n",
        "\n",
        "# Test the model\n",
        "y_pred = predict(X_test)\n",
        "accuracy = np.mean(y_pred == y_test)\n",
        "print(f\"Accuracy: {accuracy}\")\n"
      ],
      "metadata": {
        "colab": {
          "base_uri": "https://localhost:8080/"
        },
        "id": "o9XdRMAVSLQX",
        "outputId": "1a53c42a-84f3-4622-fe63-04f72d29d3b5"
      },
      "execution_count": 1,
      "outputs": [
        {
          "output_type": "stream",
          "name": "stdout",
          "text": [
            "Accuracy: 0.9777777777777777\n"
          ]
        }
      ]
    },
    {
      "cell_type": "markdown",
      "source": [
        "(ii) Using an In-built Function"
      ],
      "metadata": {
        "id": "A_bpb6lOS0yV"
      }
    },
    {
      "cell_type": "code",
      "source": [
        "from sklearn.naive_bayes import GaussianNB\n",
        "from sklearn.metrics import accuracy_score\n",
        "\n",
        "# Initialize the model\n",
        "gnb = GaussianNB()\n",
        "\n",
        "# Train the model\n",
        "gnb.fit(X_train, y_train)\n",
        "\n",
        "# Make predictions\n",
        "y_pred = gnb.predict(X_test)\n",
        "\n",
        "# Calculate accuracy\n",
        "accuracy = accuracy_score(y_test, y_pred)\n",
        "print(f\"Accuracy: {accuracy}\")\n"
      ],
      "metadata": {
        "colab": {
          "base_uri": "https://localhost:8080/"
        },
        "id": "BkPIfx9iS32Q",
        "outputId": "4ef7fb25-af6a-422a-8f6e-05da69c72ca4"
      },
      "execution_count": 2,
      "outputs": [
        {
          "output_type": "stream",
          "name": "stdout",
          "text": [
            "Accuracy: 0.9777777777777777\n"
          ]
        }
      ]
    },
    {
      "cell_type": "markdown",
      "source": [
        "2.\tExplore about GridSearchCV toot in scikit-learn. This is a tool that is often used for tuning hyperparameters of machine learning models. Use this tool to find the best value of K for K-NN Classifier using any dataset."
      ],
      "metadata": {
        "id": "sKI9NQK2S_F9"
      }
    },
    {
      "cell_type": "code",
      "source": [
        "from sklearn.datasets import load_iris\n",
        "from sklearn.neighbors import KNeighborsClassifier\n",
        "from sklearn.model_selection import GridSearchCV\n",
        "import numpy as np\n",
        "\n",
        "# Load the Iris dataset\n",
        "iris = load_iris()\n",
        "X = iris.data\n",
        "y = iris.target\n",
        "\n",
        "# Define the K-NN model\n",
        "knn = KNeighborsClassifier()\n",
        "\n",
        "# Define the parameter grid for 'n_neighbors' (range of K values)\n",
        "param_grid = {'n_neighbors': np.arange(1, 21)}  # Testing K from 1 to 20\n",
        "\n",
        "# Initialize GridSearchCV with 5-fold cross-validation\n",
        "grid_search = GridSearchCV(knn, param_grid, cv=5)\n",
        "\n",
        "# Fit the model to find the best K value\n",
        "grid_search.fit(X, y)\n",
        "\n",
        "# Retrieve and print the best parameter and score\n",
        "best_k = grid_search.best_params_['n_neighbors']\n",
        "best_score = grid_search.best_score_\n",
        "\n",
        "print(f\"Best value of K: {best_k}\")\n",
        "print(f\"Best cross-validated accuracy: {best_score}\")\n"
      ],
      "metadata": {
        "colab": {
          "base_uri": "https://localhost:8080/"
        },
        "id": "8ey_JFiDTFNW",
        "outputId": "8cd649b9-891b-4f3d-e29f-139362f56d69"
      },
      "execution_count": 1,
      "outputs": [
        {
          "output_type": "stream",
          "name": "stdout",
          "text": [
            "Best value of K: 6\n",
            "Best cross-validated accuracy: 0.9800000000000001\n"
          ]
        },
        {
          "output_type": "stream",
          "name": "stderr",
          "text": [
            "/usr/local/lib/python3.10/dist-packages/numpy/ma/core.py:2820: RuntimeWarning: invalid value encountered in cast\n",
            "  _data = np.array(data, dtype=dtype, copy=copy,\n"
          ]
        }
      ]
    }
  ]
}